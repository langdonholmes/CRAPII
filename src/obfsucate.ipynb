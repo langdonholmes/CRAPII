{
 "cells": [
  {
   "cell_type": "code",
   "execution_count": 1,
   "metadata": {},
   "outputs": [],
   "source": [
    "import obfuscator\n",
    "import spacy\n",
    "from spacy.tokens import Doc, DocBin\n",
    "\n",
    "import random\n",
    "import pandas as pd\n",
    "import json\n",
    "\n",
    "from presidio_evaluator import InputSample, Span\n",
    "\n",
    "from tqdm.auto import tqdm\n",
    "nlp = spacy.load('en_core_web_sm')    \n",
    "\n",
    "import logging\n",
    "logging.basicConfig(level=logging.INFO)\n",
    "\n",
    "VERSION = 6"
   ]
  },
  {
   "cell_type": "code",
   "execution_count": 2,
   "metadata": {},
   "outputs": [
    {
     "name": "stdout",
     "output_type": "stream",
     "text": [
      "22728\n"
     ]
    }
   ],
   "source": [
    "doc_bin = DocBin().from_disk('data/ubiai_export.spacy')\n",
    "docs = list(doc_bin.get_docs(nlp.vocab))\n",
    "print(len(docs))"
   ]
  },
  {
   "cell_type": "code",
   "execution_count": 3,
   "metadata": {},
   "outputs": [
    {
     "name": "stdout",
     "output_type": "stream",
     "text": [
      "22688\n"
     ]
    }
   ],
   "source": [
    "docs = [doc for doc in docs if doc.text != 'text']\n",
    "print(len(docs))"
   ]
  },
  {
   "cell_type": "code",
   "execution_count": 4,
   "metadata": {},
   "outputs": [],
   "source": [
    "hider = obfuscator.SurrogateAnonymizer(remember_replacements=\"document\")"
   ]
  },
  {
   "cell_type": "code",
   "execution_count": null,
   "metadata": {},
   "outputs": [],
   "source": [
    "obfuscation_records = []\n",
    "anonymized_samples = []\n",
    "\n",
    "for doc in tqdm(docs):\n",
    "    results = hider.anonymize(doc)\n",
    "\n",
    "    # sort items by start index\n",
    "    items = sorted(results.items, key=lambda x: x.start)\n",
    "\n",
    "    # create a list of spans\n",
    "    spans = [Span(item.entity_type, 0.5, item.start, item.end) for item in items]\n",
    "    anonymized_samples.append(\n",
    "        InputSample(\n",
    "            full_text=results.text,\n",
    "            spans=spans,\n",
    "            create_tags_from_span=True,\n",
    "            token_model_version=\"en_core_web_sm\",\n",
    "            scheme=\"BIO\",\n",
    "        )\n",
    "    )\n",
    "\n",
    "    for ent, item in zip(doc.ents, items):\n",
    "        obfuscation_records.append(\n",
    "            {\n",
    "                \"orig_text\": doc.text,\n",
    "                \"obfuscated_text\": results.text,\n",
    "                \"orig_pii\": ent.text,\n",
    "                \"obfuscated_pii\": item.text,\n",
    "                \"pii_type\": ent.label_,\n",
    "                \"obfuscation_strategy\": item.operator,\n",
    "                \"orig_start\": ent.start_char,\n",
    "                \"orig_end\": ent.end_char,\n",
    "                \"obfuscated_start\": item.start,\n",
    "                \"obfuscated_end\": item.end,\n",
    "            }\n",
    "        )"
   ]
  },
  {
   "cell_type": "code",
   "execution_count": 6,
   "metadata": {},
   "outputs": [],
   "source": [
    "df = pd.DataFrame.from_records(obfuscation_records)"
   ]
  },
  {
   "cell_type": "code",
   "execution_count": 8,
   "metadata": {},
   "outputs": [],
   "source": [
    "df.to_csv(f'output/obfsucation_records_{VERSION:02}.csv')"
   ]
  },
  {
   "cell_type": "markdown",
   "metadata": {},
   "source": [
    "## Competition formats"
   ]
  },
  {
   "cell_type": "markdown",
   "metadata": {},
   "source": [
    "### CONLL"
   ]
  },
  {
   "cell_type": "code",
   "execution_count": 9,
   "metadata": {},
   "outputs": [],
   "source": [
    "def to_conll(sample: InputSample):\n",
    "    conll = []\n",
    "    for i, token in enumerate(sample.tokens):\n",
    "        label = sample.tags[i]\n",
    "        conll.append(\n",
    "            {\n",
    "                \"token\": token.text,\n",
    "                \"trailing_space\": True if token.whitespace_ else False,\n",
    "                \"label\": label,\n",
    "            },\n",
    "        )\n",
    "\n",
    "    return conll\n",
    "\n",
    "def create_conll_dataset(dataset):\n",
    "    conlls = []\n",
    "    i = 0\n",
    "    for sample in tqdm(dataset):\n",
    "        conll = to_conll(sample)\n",
    "        for token in conll:\n",
    "            token[\"document\"] = i\n",
    "            conlls.append(token)\n",
    "        i += 1\n",
    "\n",
    "    return pd.DataFrame(conlls)[[\"document\", \"token\", \"trailing_space\", \"label\"]]"
   ]
  },
  {
   "cell_type": "code",
   "execution_count": null,
   "metadata": {},
   "outputs": [],
   "source": [
    "conll = create_conll_dataset(anonymized_samples)"
   ]
  },
  {
   "cell_type": "code",
   "execution_count": 12,
   "metadata": {},
   "outputs": [],
   "source": [
    "conll_competition = conll.copy()\n",
    "\n",
    "to_remove = [\n",
    "    'B-LOCATION', 'I-LOCATION',\n",
    "    'B-EDUCATION', 'I-EDUCATION',\n",
    "    'B-NAME_INSTRUCTOR', 'I-NAME_INSTRUCTOR',\n",
    "    'B-EMPLOYER', 'I-EMPLOYER',\n",
    "    'B-DATE', 'I-DATE',\n",
    "    'B-OTHER', 'I-OTHER',\n",
    "    'B-AGE', 'I-AGE'\n",
    "    ]\n",
    "\n",
    "conll_competition.loc[conll_competition.label.isin(to_remove), 'label'] = 'O'"
   ]
  },
  {
   "cell_type": "code",
   "execution_count": 14,
   "metadata": {},
   "outputs": [],
   "source": [
    "conll_competition.to_csv(f'output/obfuscated_data_{VERSION:02}.csv')"
   ]
  },
  {
   "cell_type": "markdown",
   "metadata": {},
   "source": [
    "### JSON"
   ]
  },
  {
   "cell_type": "code",
   "execution_count": 15,
   "metadata": {},
   "outputs": [],
   "source": [
    "from presidio_evaluator import span_to_tag"
   ]
  },
  {
   "cell_type": "code",
   "execution_count": 16,
   "metadata": {},
   "outputs": [],
   "source": [
    "def to_dict(dataset):\n",
    "    example_dicts = []\n",
    "    for i, example in enumerate(dataset):\n",
    "        labels = [tag if tag not in to_remove else \"O\" for tag in example.tags]\n",
    "        example_dicts.append(\n",
    "            {\n",
    "                \"full_text\": example.full_text,\n",
    "                \"document\": i,\n",
    "                \"tokens\": [t.text for t in example.tokens],\n",
    "                \"trailing_whitespace\": [\n",
    "                    True if t.whitespace_ else False for t in example.tokens\n",
    "                ],\n",
    "                \"labels\": labels,\n",
    "            }\n",
    "        )\n",
    "\n",
    "    return example_dicts"
   ]
  },
  {
   "cell_type": "code",
   "execution_count": 17,
   "metadata": {},
   "outputs": [],
   "source": [
    "example_dicts = to_dict(anonymized_samples)"
   ]
  },
  {
   "cell_type": "code",
   "execution_count": 19,
   "metadata": {},
   "outputs": [],
   "source": [
    "with open(f\"output/obfuscated_data_{VERSION:02}.json\", \"w+\", encoding=\"utf-8\") as f:\n",
    "    json.dump(example_dicts, f, ensure_ascii=False)"
   ]
  },
  {
   "cell_type": "markdown",
   "metadata": {},
   "source": [
    "### Zip of .txt"
   ]
  },
  {
   "cell_type": "code",
   "execution_count": 20,
   "metadata": {},
   "outputs": [],
   "source": [
    "import zipfile\n",
    "\n",
    "\n",
    "def write_zip(dataset):\n",
    "    # Create a new zip archive\n",
    "    with zipfile.ZipFile(f\"output/obfuscated_data_{VERSION:02}.zip\", \"w\") as zip_file:\n",
    "        # Write each string to a new text file in the archive\n",
    "        for i, example in enumerate(dataset):\n",
    "            filename = f\"{i}.txt\"\n",
    "            zip_file.writestr(filename, example.full_text)"
   ]
  },
  {
   "cell_type": "code",
   "execution_count": 21,
   "metadata": {},
   "outputs": [],
   "source": [
    "write_zip(anonymized_samples)"
   ]
  }
 ],
 "metadata": {
  "kernelspec": {
   "display_name": "obfuscation.venv",
   "language": "python",
   "name": "python3"
  },
  "language_info": {
   "codemirror_mode": {
    "name": "ipython",
    "version": 3
   },
   "file_extension": ".py",
   "mimetype": "text/x-python",
   "name": "python",
   "nbconvert_exporter": "python",
   "pygments_lexer": "ipython3",
   "version": "3.10.13"
  },
  "orig_nbformat": 4
 },
 "nbformat": 4,
 "nbformat_minor": 2
}
