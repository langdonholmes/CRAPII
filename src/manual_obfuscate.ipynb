{
 "cells": [
  {
   "cell_type": "code",
   "execution_count": 2,
   "metadata": {},
   "outputs": [],
   "source": [
    "import spacy\n",
    "from spacy.tokens import DocBin\n",
    "\n",
    "nlp = spacy.load('en_core_web_sm')"
   ]
  },
  {
   "cell_type": "code",
   "execution_count": 3,
   "metadata": {},
   "outputs": [],
   "source": [
    "doc_bin = DocBin().from_disk('../data/ubiai_export.spacy')\n",
    "docs = list(doc_bin.get_docs(nlp.vocab))"
   ]
  },
  {
   "cell_type": "code",
   "execution_count": 4,
   "metadata": {},
   "outputs": [
    {
     "data": {
      "text/plain": [
       "22728"
      ]
     },
     "execution_count": 4,
     "metadata": {},
     "output_type": "execute_result"
    }
   ],
   "source": [
    "len(docs)"
   ]
  },
  {
   "cell_type": "code",
   "execution_count": 6,
   "metadata": {},
   "outputs": [],
   "source": [
    "from collections import defaultdict\n",
    "\n",
    "entities = defaultdict(list)\n",
    "\n",
    "for doc in docs:\n",
    "    for ent in doc.ents:\n",
    "        # Count the number of entities\n",
    "        entities[ent.label_].append(ent)"
   ]
  },
  {
   "attachments": {},
   "cell_type": "markdown",
   "metadata": {},
   "source": [
    "## The Obfuscation Plan\n",
    "Obfuscate with surrogate name generator:\n",
    " - NAME_STUDENT\n",
    " - NAME_INSTRUCTOR\n",
    "\n",
    "Obfuscate with URL randomizer:\n",
    " - URL\n",
    "\n",
    "Obfuscate with random character replacement:\n",
    " - ID_NUM\n",
    " - AGE\n",
    " - DATE\n",
    "\n",
    "Obfuscate with Faker:\n",
    " - EMAIL\n",
    " - PHONE_NUM\n",
    " - STREET_ADDRESS\n",
    " - USERNAME\n",
    "\n",
    "Manually review:\n",
    " - OTHER\n",
    "\n",
    "Shuffle Obfuscate:\n",
    " - LOCATION\n",
    " - EDUCATION\n",
    " - EMPLOYER\n"
   ]
  },
  {
   "attachments": {},
   "cell_type": "markdown",
   "metadata": {},
   "source": [
    "### Manually create and save surrogates for Other"
   ]
  },
  {
   "cell_type": "code",
   "execution_count": 7,
   "metadata": {},
   "outputs": [],
   "source": [
    "import ipywidgets as widgets\n",
    "from ipywidgets import Layout, HTML\n",
    "from spacy import displacy\n",
    "from pathlib import Path\n",
    "import shelve\n"
   ]
  },
  {
   "cell_type": "code",
   "execution_count": 8,
   "metadata": {},
   "outputs": [
    {
     "data": {
      "application/vnd.jupyter.widget-view+json": {
       "model_id": "23b133cf4a5d4d1fbf1dcc4070b4111f",
       "version_major": 2,
       "version_minor": 0
      },
      "text/plain": [
       "AppLayout(children=(HBox(children=(HTML(value='<h1>PII will appear here.</h1>', layout=Layout(height='auto', w…"
      ]
     },
     "metadata": {},
     "output_type": "display_data"
    }
   ],
   "source": [
    "class ManualSurrogation:\n",
    "    \n",
    "    all_ents = entities\n",
    "    color = 'linear-gradient(90deg, #aa9cfc, #fc9ce7)'\n",
    "    mappings_path = Path('../data/manual_surrogate_mappings')\n",
    "    \n",
    "    def __init__(self, entity_type: str):\n",
    "        # Create/Load surrogate mappings file\n",
    "        self.shelf = shelve.open(self.mappings_path / entity_type, 'c')\n",
    "        \n",
    "        self.counter = 0\n",
    "        # Set up generator to cycle through entities\n",
    "        self.entity_type = entity_type\n",
    "        self.ents = self.all_ents[self.entity_type]\n",
    "        self.current_ent = None\n",
    "        \n",
    "        # Displacy Options\n",
    "        self.options = {\n",
    "            'ents': [self.entity_type],\n",
    "            'colors': {self.entity_type: self.color}\n",
    "        }\n",
    "        \n",
    "        # Header for displaying ent + context\n",
    "        self.header = HTML(\n",
    "                value='<h1>PII will appear here.</h1>',\n",
    "                layout=Layout(width='auto', height='auto')\n",
    "                )\n",
    "        self.header_box = widgets.HBox(\n",
    "            [self.header],\n",
    "            layout=Layout(height='400px', overflow_y='auto',\n",
    "                          margin='10px 10px 10px 10px')\n",
    "            )\n",
    "        \n",
    "        # Main interaction widgets\n",
    "        self.text_input = widgets.Text(value='',\n",
    "                                       continuous_update=False)\n",
    "        self.text_input_label = widgets.Label(value='Surrogate:')\n",
    "        self.confirm_button = widgets.Button(description='Start')\n",
    "        self.not_pii_button = widgets.Button(description='Not PII')\n",
    "        self.previous_button = widgets.Button(description='Previous')\n",
    "        self.next_button = widgets.Button(description='Next')\n",
    "        \n",
    "        self.center_box = widgets.HBox(\n",
    "            [self.text_input_label,\n",
    "             self.text_input,\n",
    "             self.confirm_button,\n",
    "             self.previous_button,\n",
    "             self.next_button,\n",
    "             self.not_pii_button]\n",
    "            )\n",
    "\n",
    "        self.confirm_button.on_click(self.submit_surrogate)\n",
    "        self.previous_button.on_click(self.get_last_ent)\n",
    "        self.next_button.on_click(self.get_next_ent)\n",
    "        self.not_pii_button.on_click(self.submit_not_pii)\n",
    "   \n",
    "        self.rows = [] # Used for logging\n",
    "        self.log_box = HTML(\n",
    "                value='<h4>Saved Mappings:</h4>',\n",
    "                layout=Layout(width='auto', height='50px')\n",
    "                )\n",
    "\n",
    "\n",
    "        self.widget = widgets.AppLayout(\n",
    "            header=self.header_box,\n",
    "            center=self.center_box,\n",
    "            footer=self.log_box,\n",
    "            width='50%',\n",
    "            height='500px',\n",
    "            pane_heights=['300px', '40px', '160px'],\n",
    "            )\n",
    "\n",
    "        self.log = ['']\n",
    "\n",
    "        display(self.widget)\n",
    "\n",
    "    def update_widgets(self, window=25):\n",
    "        start = max(0, self.current_ent.start - window)\n",
    "        end = min(self.current_ent.end + window, len(self.current_ent.doc))\n",
    "        self.header.value = displacy.render(\n",
    "            self.current_ent.doc[start:end],\n",
    "            style='ent',\n",
    "            options=self.options\n",
    "            )\n",
    "        self.text_input_label.value = f'Surrogate for {self.current_ent.text}:'\n",
    "        self.text_input.value = self.shelf.get(self.current_ent.text, '')\n",
    "\n",
    "    def get_next_ent(self, *args):\n",
    "        self.counter += 1\n",
    "        try:\n",
    "            self.current_ent = self.ents[self.counter]\n",
    "            if self.current_ent.text in self.shelf:\n",
    "                self.get_next_ent()\n",
    "            self.update_widgets()\n",
    "        except IndexError:\n",
    "            self.confirm_button.disabled = True\n",
    "            self.shelf.close()\n",
    "            self.header.value = '<h1>Done!</h1>'\n",
    "\n",
    "    def get_last_ent(self, *args):\n",
    "        self.counter -= 1\n",
    "        self.current_ent = self.ents[self.counter]\n",
    "        self.update_widgets()\n",
    "\n",
    "    def submit_surrogate(self, *args):\n",
    "        self.confirm_button.description = 'Confirm'\n",
    "        if self.current_ent:\n",
    "            self.shelf[self.current_ent.text] = self.text_input.value\n",
    "            self.log_box.value = self.add_log()\n",
    "        self.get_next_ent()\n",
    "    \n",
    "    def submit_not_pii(self, *args):\n",
    "        self.text_input.value = 'NOT_PII'\n",
    "        self.submit_surrogate()\n",
    "\n",
    "    def add_log(self):\n",
    "        max_rows = 5\n",
    "        self.rows.insert(\n",
    "            0, f'{self.counter}: {self.current_ent.text} -> {self.text_input.value}'\n",
    "            )\n",
    "        if len(self.rows) > max_rows:\n",
    "            self.rows.pop(5)\n",
    "        return '<h4>Saved Mappings:</h4><ul>{}</ul>'.format(\n",
    "            '<li>'.join([''] + self.rows)\n",
    "            )\n",
    "    \n",
    "    \n",
    "        \n",
    "other = ManualSurrogation('OTHER')"
   ]
  },
  {
   "cell_type": "code",
   "execution_count": null,
   "metadata": {},
   "outputs": [],
   "source": [
    "import json\n",
    "other_dict = dict(shelve.open('../data/manual_surrogate_mappings/OTHER', 'c'))\n",
    "\n",
    "with open('data/other_mappings.json', 'w') as f:\n",
    "    json.dump(other_dict, f)"
   ]
  }
 ],
 "metadata": {
  "kernelspec": {
   "display_name": "obfuscation.venv",
   "language": "python",
   "name": "python3"
  },
  "language_info": {
   "codemirror_mode": {
    "name": "ipython",
    "version": 3
   },
   "file_extension": ".py",
   "mimetype": "text/x-python",
   "name": "python",
   "nbconvert_exporter": "python",
   "pygments_lexer": "ipython3",
   "version": "3.12.2"
  },
  "orig_nbformat": 4
 },
 "nbformat": 4,
 "nbformat_minor": 2
}
